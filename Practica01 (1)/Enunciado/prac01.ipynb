{
 "cells": [
  {
   "cell_type": "code",
   "execution_count": 5,
   "id": "293a73c2",
   "metadata": {},
   "outputs": [],
   "source": [
    "from public_tests import *\n",
    "from utils import *\n",
    "from LinearRegression import LinearReg\n",
    "from LinearRegressionNumpy import LinearRegNumpy\n",
    "from LinearRegression import cost_test_obj\n",
    "from LinearRegression import compute_gradient_obj\n",
    "\n",
    "from LinearRegressionMulti import LinearRegMulti\n",
    "from LinearRegressionMulti import cost_test_multi_obj\n",
    "from LinearRegressionMulti import compute_gradient_multi_obj\n",
    "import numpy as np\n",
    "from csv import reader"
   ]
  },
  {
   "cell_type": "code",
   "execution_count": null,
   "id": "94dd85f3",
   "metadata": {},
   "outputs": [
    {
     "data": {
      "text/plain": [
       "[array([99., 98., 98., ..., 17., 16., 11.]),\n",
       " array([91., 74., 76., ..., 43., 13., 20.])]"
      ]
     },
     "execution_count": 33,
     "metadata": {},
     "output_type": "execute_result"
    }
   ],
   "source": [
    "#First Part, Linear Regression\n",
    "#Load_data ya llama al clean data\n",
    "csv = load_data_csv(\"./data/games-data.csv\", \"score\", \"user score\")\n",
    "\n",
    "#csv son las columnas score y user score\n",
    "\n",
    "#lrN = LinearRegNumpy(len(csv), len(csv[0]), csv[0], csv[1])\n",
    "#print(\"First Part, Linear Regression\")\n",
    "\n",
    "#compute_cost_test_one(csv[0])"
   ]
  }
 ],
 "metadata": {
  "kernelspec": {
   "display_name": "Python 3",
   "language": "python",
   "name": "python3"
  },
  "language_info": {
   "codemirror_mode": {
    "name": "ipython",
    "version": 3
   },
   "file_extension": ".py",
   "mimetype": "text/x-python",
   "name": "python",
   "nbconvert_exporter": "python",
   "pygments_lexer": "ipython3",
   "version": "3.11.9"
  }
 },
 "nbformat": 4,
 "nbformat_minor": 5
}
