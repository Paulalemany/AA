{
 "cells": [
  {
   "cell_type": "code",
   "execution_count": null,
   "id": "600913c8-c42c-4dbd-a47d-65742daea1d2",
   "metadata": {},
   "outputs": [],
   "source": [
    "class personaje:\n",
    "    def __init__(self, name, live, damage)\n",
    "        self.nombre = name\n",
    "        self.vida = live\n",
    "        self.dano = damage\n",
    "\n",
    "    def atacar(self)\n",
    "        return self.dano\n",
    "\n",
    "    def daño(self, d)\n",
    "        self.vida -= d"
   ]
  }
 ],
 "metadata": {
  "kernelspec": {
   "display_name": "Python 3 (ipykernel)",
   "language": "python",
   "name": "python3"
  },
  "language_info": {
   "codemirror_mode": {
    "name": "ipython",
    "version": 3
   },
   "file_extension": ".py",
   "mimetype": "text/x-python",
   "name": "python",
   "nbconvert_exporter": "python",
   "pygments_lexer": "ipython3",
   "version": "3.12.7"
  }
 },
 "nbformat": 4,
 "nbformat_minor": 5
}
